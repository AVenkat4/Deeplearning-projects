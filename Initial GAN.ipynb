{
 "cells": [
  {
   "cell_type": "code",
   "execution_count": 1,
   "metadata": {
    "collapsed": true
   },
   "outputs": [],
   "source": [
    "import numpy as np\n",
    "import os, copy, sys\n",
    "%matplotlib inline\n",
    "import matplotlib.pyplot as plt\n",
    "import torch\n",
    "import torch.nn as nn\n",
    "import torch.nn.functional as F\n",
    "import torch.optim as optim\n",
    "import torch.autograd as autograd\n",
    "from torch.autograd import Variable\n",
    "import torchvision\n",
    "from torchvision import datasets, transforms\n",
    "from torchvision.datasets import ImageFolder"
   ]
  },
  {
   "cell_type": "code",
   "execution_count": 35,
   "metadata": {
    "collapsed": true
   },
   "outputs": [],
   "source": [
    "if torch.cuda.is_available():\n",
    "    cuda = True\n",
    "    device = torch.device('cuda')\n",
    "    \n",
    "X_dim = 28*28\n",
    "Y_dim = 1\n",
    "h_dim = 128\n",
    "Z_dim = 100\n",
    "    \n",
    "def xavier_init(size):\n",
    "    in_dim = size[0]\n",
    "    xavier_stddev = 1.0 / (np.sqrt(in_dim/ 2.0))\n",
    "    vec = torch.randn(*size)*xavier_stddev\n",
    "    vec = vec.to(device)\n",
    "    vec.requires_grad = True\n",
    "    return vec\n",
    "    \n",
    "def init_bias(size):\n",
    "    vec = torch.zeros(size)\n",
    "    vec = vec.to(device)\n",
    "    vec = Variable(vec, requires_grad = True)\n",
    "    return vec\n",
    "\n",
    "def loss(Input, target):\n",
    "    return F.binary_cross_entropy(Input, target)\n",
    "\n",
    "class generator(nn.Module):\n",
    "    def __init__(self, ):\n",
    "        super(generator, self).__init__()\n",
    "        self.Wzh = nn.Parameter(xavier_init(size = [Z_dim, h_dim]))\n",
    "        self.Whx = nn.Parameter(xavier_init(size = [h_dim, X_dim]))\n",
    "        self.bgz = nn.Parameter(init_bias(h_dim))\n",
    "        self.bgh = nn.Parameter(init_bias(X_dim))\n",
    "        \n",
    "        self.relu = nn.ReLU()\n",
    "        self.sigmoid = nn.Sigmoid()\n",
    "        \n",
    "    def forward(self, z):\n",
    "        h = F.relu(torch.mm(z, self.Wzh) + self.bgz)\n",
    "        X = F.sigmoid(torch.mm(h, self.Whx) + self.bgh)\n",
    "        return X\n",
    "    \n",
    "class discriminator(nn.Module):\n",
    "    def __init__(self, ):\n",
    "        super(discriminator, self).__init__()\n",
    "        self.Wxh = nn.Parameter(xavier_init(size = [X_dim, h_dim]))\n",
    "        self.Why = nn.Parameter(xavier_init(size = [h_dim, Y_dim]))\n",
    "        self.bdx = nn.Parameter(init_bias(h_dim))\n",
    "        self.bdh = nn.Parameter(init_bias(Y_dim))\n",
    "        \n",
    "        self.relu = nn.ReLU()\n",
    "        self.sigmoid = nn.Sigmoid()\n",
    "    \n",
    "    def forward(self, X):\n",
    "        h = F.relu(torch.mm(X, self.Wxh) + self.bdx)\n",
    "        y = F.sigmoid(torch.mm(h, self.Why) + self.bdh)\n",
    "        return y\n",
    "    "
   ]
  },
  {
   "cell_type": "code",
   "execution_count": 15,
   "metadata": {},
   "outputs": [
    {
     "name": "stdout",
     "output_type": "stream",
     "text": [
      "Wzh\n",
      "Whx\n",
      "bgz\n",
      "bgh\n",
      "Wxh\n",
      "Why\n",
      "bdx\n",
      "bdh\n"
     ]
    }
   ],
   "source": [
    "G = generator()\n",
    "for name, p in G.named_parameters():\n",
    "    if p.requires_grad:\n",
    "        print(name)\n",
    "D = discriminator()\n",
    "for name, p in D.named_parameters():\n",
    "    if p.requires_grad:\n",
    "        print(name)"
   ]
  },
  {
   "cell_type": "code",
   "execution_count": 40,
   "metadata": {},
   "outputs": [
    {
     "data": {
      "text/plain": [
       "<matplotlib.image.AxesImage at 0x2038f26e4a8>"
      ]
     },
     "execution_count": 40,
     "metadata": {},
     "output_type": "execute_result"
    },
    {
     "data": {
      "image/png": "[encoded data removed]",
      "text/plain": [
       "<matplotlib.figure.Figure at 0x203832a7ba8>"
      ]
     },
     "metadata": {},
     "output_type": "display_data"
    }
   ],
   "source": [
    "batchsize = 64\n",
    "transform = transforms.Compose([transforms.ToTensor(), transforms.Normalize((0,), (1,))])\n",
    "trainset = datasets.MNIST(root = '../init proj/pydata/', train = True, download = False, transform = transform)\n",
    "trainloader = torch.utils.data.DataLoader(trainset, batch_size = batchsize, shuffle = True, num_workers = 2)\n",
    "\n",
    "dataiter = iter(trainloader)\n",
    "images, labels = dataiter.next()\n",
    "\n",
    "def mnist_next(dataiter):\n",
    "    try:\n",
    "        images, labels = dataiter.next()\n",
    "        images = images.view(images.numpy().shape[0], 28*28)\n",
    "    except:\n",
    "        dataiter = iter(trainloader)\n",
    "        images, labels = dataiter.next()\n",
    "        images = images.view(images.numpy().shape[0], 28*28)\n",
    "    return images.numpy(), labels\n",
    "\n",
    "images, labels = mnist_next(dataiter)\n",
    "# print some random training images\n",
    "dataiter = iter(trainloader)\n",
    "images, labels = dataiter.next()\n",
    "img = torchvision.utils.make_grid(images)\n",
    "npimg = img.numpy()\n",
    "plt.imshow(np.transpose(npimg, (1, 2, 0)))\n"
   ]
  },
  {
   "cell_type": "code",
   "execution_count": 64,
   "metadata": {},
   "outputs": [
    {
     "name": "stderr",
     "output_type": "stream",
     "text": [
      "C:\\Users\\Abarn\\AppData\\Local\\conda\\conda\\envs\\mypython\\lib\\site-packages\\ipykernel_launcher.py:59: UserWarning: invalid index of a 0-dim tensor. This will be an error in PyTorch 0.5. Use tensor.item() to convert a 0-dim tensor to a Python number\n"
     ]
    },
    {
     "ename": "TypeError",
     "evalue": "format() argument 2 must be str, not numpy.float64",
     "output_type": "error",
     "traceback": [
      "\u001b[1;31m---------------------------------------------------------------------------\u001b[0m",
      "\u001b[1;31mTypeError\u001b[0m                                 Traceback (most recent call last)",
      "\u001b[1;32m<ipython-input-64-c86477ba48ef>\u001b[0m in \u001b[0;36m<module>\u001b[1;34m()\u001b[0m\n\u001b[0;32m     60\u001b[0m \u001b[1;33m\u001b[0m\u001b[0m\n\u001b[0;32m     61\u001b[0m     \u001b[1;32mif\u001b[0m \u001b[0mepoch\u001b[0m \u001b[1;33m%\u001b[0m \u001b[1;36m1\u001b[0m \u001b[1;33m==\u001b[0m \u001b[1;36m0\u001b[0m\u001b[1;33m:\u001b[0m\u001b[1;33m\u001b[0m\u001b[0m\n\u001b[1;32m---> 62\u001b[1;33m         \u001b[0mprint\u001b[0m\u001b[1;33m(\u001b[0m\u001b[1;34m'Epoch: {} Average loss: {:.4f}'\u001b[0m\u001b[1;33m,\u001b[0m \u001b[0mformat\u001b[0m\u001b[1;33m(\u001b[0m\u001b[0mepoch\u001b[0m\u001b[1;33m,\u001b[0m \u001b[0mtotal_loss\u001b[0m\u001b[1;33m.\u001b[0m\u001b[0mcpu\u001b[0m\u001b[1;33m(\u001b[0m\u001b[1;33m)\u001b[0m\u001b[1;33m.\u001b[0m\u001b[0mnumpy\u001b[0m\u001b[1;33m(\u001b[0m\u001b[1;33m)\u001b[0m\u001b[1;33m/\u001b[0m\u001b[0mlen\u001b[0m\u001b[1;33m(\u001b[0m\u001b[0mtrainloader\u001b[0m\u001b[1;33m.\u001b[0m\u001b[0mdataset\u001b[0m\u001b[1;33m)\u001b[0m\u001b[1;33m)\u001b[0m\u001b[1;33m)\u001b[0m\u001b[1;33m\u001b[0m\u001b[0m\n\u001b[0m\u001b[0;32m     63\u001b[0m \u001b[1;33m\u001b[0m\u001b[0m\n\u001b[0;32m     64\u001b[0m \u001b[0mG\u001b[0m\u001b[1;33m.\u001b[0m\u001b[0msave\u001b[0m\u001b[1;33m(\u001b[0m\u001b[0mG\u001b[0m\u001b[1;33m.\u001b[0m\u001b[0msave_dict\u001b[0m\u001b[1;33m(\u001b[0m\u001b[1;33m)\u001b[0m\u001b[1;33m,\u001b[0m \u001b[1;34m'generator_dict'\u001b[0m\u001b[1;33m)\u001b[0m\u001b[1;33m\u001b[0m\u001b[0m\n",
      "\u001b[1;31mTypeError\u001b[0m: format() argument 2 must be str, not numpy.float64"
     ]
    }
   ],
   "source": [
    "batchsize = 64\n",
    "transform = transforms.Compose([transforms.ToTensor(), transforms.Normalize((0,), (1,))])\n",
    "trainset = datasets.MNIST(root = '../init proj/pydata/', train = True, download = False, transform = transform)\n",
    "trainloader = torch.utils.data.DataLoader(trainset, batch_size = batchsize, shuffle = True)\n",
    "\n",
    "G = generator()\n",
    "D = discriminator()\n",
    "if cuda == True:\n",
    "    G.cuda()\n",
    "    D.cuda()\n",
    "learning_rate = 0.0001\n",
    "G_optim = optim.Adam(G.parameters(), lr = learning_rate)\n",
    "D_optim = optim.Adam(D.parameters(), lr = learning_rate)\n",
    "\n",
    "\n",
    "\n",
    "epochs = 10\n",
    "for epoch in range(epochs):\n",
    "    total_loss = 0\n",
    "    G.train()\n",
    "    D.train()\n",
    "    for _, (X, Y) in enumerate(trainloader):\n",
    "        z = torch.randn(batchsize, Z_dim)\n",
    "        X = X.view(X.numpy().shape[0], 28*28)\n",
    "        X, Y, z = Variable(X), Variable(Y), Variable(z)\n",
    "        X, Y, z = X.cuda(), Y.cuda(), z.cuda()\n",
    "        \n",
    "        G_sample = G(z)\n",
    "        D_real = D(X)\n",
    "        D_fake = D(G_sample)\n",
    "        \n",
    "        ones_label = torch.ones(D_real.size()[0], 1)\n",
    "        ones_label = ones_label.cuda()\n",
    "        zeros_label = torch.zeros(D_fake.size()[0], 1)\n",
    "        zeros_label = zeros_label.cuda()\n",
    "        \n",
    "        D_real_loss = loss(D_real, ones_label)\n",
    "        D_fake_loss = loss(D_fake, zeros_label)\n",
    "    \n",
    "        D_loss = D_real_loss + D_fake_loss\n",
    "        D_loss.backward()\n",
    "        D_optim.step()\n",
    "        D.zero_grad()\n",
    "        G.zero_grad()\n",
    "    \n",
    "        z = torch.randn(batchsize, Z_dim)\n",
    "        z = Variable(z)\n",
    "        z = z.cuda()\n",
    "        G_sample = G(z)\n",
    "        D_fake = D(G_sample)\n",
    "        ones_label = torch.ones(D_fake.size()[0], 1)\n",
    "        ones_label = ones_label.cuda()\n",
    "    \n",
    "        G_loss = loss(D_fake, ones_label)\n",
    "        G_loss.backward()\n",
    "        G_optim.step()\n",
    "        G.zero_grad()\n",
    "    \n",
    "        total_loss += (D_loss.data[0] + G_loss.data[0])\n",
    "    \n",
    "    if epoch % 1 == 0:\n",
    "        print('Epoch: {} Average loss: {:.4f}', format(epoch, total_loss.cpu().numpy()/len(trainloader.dataset)))\n",
    "        \n",
    "G.save(G.save_dict(), 'generator_dict')\n",
    "D.save(D.save_dict(), 'discriminator_dict')\n"
   ]
  },
  {
   "cell_type": "code",
   "execution_count": null,
   "metadata": {
    "collapsed": true
   },
   "outputs": [],
   "source": []
  }
 ],
 "metadata": {
  "kernelspec": {
   "display_name": "Python 3",
   "language": "python",
   "name": "python3"
  },
  "language_info": {
   "codemirror_mode": {
    "name": "ipython",
    "version": 3
   },
   "file_extension": ".py",
   "mimetype": "text/x-python",
   "name": "python",
   "nbconvert_exporter": "python",
   "pygments_lexer": "ipython3",
   "version": "3.6.1"
  }
 },
 "nbformat": 4,
 "nbformat_minor": 2
}
